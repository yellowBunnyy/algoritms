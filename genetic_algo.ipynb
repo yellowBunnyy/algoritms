{
 "cells": [
  {
   "cell_type": "code",
   "execution_count": 1,
   "id": "patent-wings",
   "metadata": {},
   "outputs": [],
   "source": [
    "#genetic algoritm (binary)\n",
    "import sys\n",
    "import numpy as np\n",
    "import pandas as pd\n",
    "import matplotlib.pyplot as plt"
   ]
  },
  {
   "cell_type": "code",
   "execution_count": 2,
   "id": "peripheral-philosophy",
   "metadata": {},
   "outputs": [],
   "source": [
    "class GeneticAlgoritmBinary:\n",
    "    def __init__(self, population_size, parrents_in_population,  num_gens, backpack_lift, epochs, chooser='rulet'):\n",
    "        \"\"\"\n",
    "        n_gens: gen quantity in chromosom\n",
    "        first_n_population: \n",
    "        \"\"\"\n",
    "        self.population_size = population_size\n",
    "        self.parrents_in_population = parrents_in_population\n",
    "        self.n_gens = num_gens\n",
    "        self.backpack_lift = backpack_lift\n",
    "        self.epochs = epochs\n",
    "        self.items = self.generate_items()\n",
    "        self.chooser_selector = chooser\n",
    "        \n",
    "        \n",
    "    def generate_items(self):\n",
    "        d = {'czapka': {'weight': 2, 'price': 3},\n",
    "             'kurtka': {'weight': 3, 'price': 6},\n",
    "             'skarpety':{'weight': 1, 'price': 2},\n",
    "             'buty':{'weight': 4, 'price': 3},\n",
    "             'woda':{'weight': 2, 'price': 10},\n",
    "             'kanapki':{'weight': 3, 'price': 7},\n",
    "             'owoce':{'weight': 4, 'price': 5},\n",
    "             'kawa':{'weight': 2, 'price': 2},\n",
    "             'mlotek':{'weight': 6, 'price':1},\n",
    "             'kilof':{'weight': 7, 'price': 0},\n",
    "             'kartofle': {'weight': 5, 'price': 4},\n",
    "             'czekolada': {'weight': 2, 'price': 9},\n",
    "             'noz': {'weight': 1, 'price': 7},\n",
    "             'humor': {'weight': 0, 'price': 15},\n",
    "            }\n",
    "        return d\n",
    "    \n",
    "    def chooser_container(self):\n",
    "        _chooser = {'rulet': self.rulet_chooser,\n",
    "                     'ranking': self.ranking_chooser,\n",
    "                    'tournament': self.tournament_chooser,\n",
    "        }\n",
    "        return _chooser\n",
    "\n",
    "    def create_chromosoms(self):\n",
    "        arr = np.random.rand(self.population_size, self.n_gens)\n",
    "        population = np.where(arr < .5, 0, 1)\n",
    "        population = population.astype(float)\n",
    "        return population\n",
    "    \n",
    "    def is_to_heavy(self, arr, items, backpack_lift):        \n",
    "        items_keys = list(items.keys())\n",
    "        s = self.map_arr(items=items, arr=arr, weight='weight').sum()\n",
    "        if s > backpack_lift:\n",
    "            return True\n",
    "        \n",
    "    def get_chomosom_value(self, arr, items):\n",
    "        s = self.map_arr(items=items, arr=arr, price='price').sum()        \n",
    "        return s\n",
    "    \n",
    "    def get_weights(self, arr, items):\n",
    "        s = self.map_arr(items=items, arr=arr, weight='weight').sum()        \n",
    "        return s    \n",
    "    \n",
    "    def check_number_items_in_backpack(self):\n",
    "        \"\"\"\n",
    "        Check if number in container are similar than gen amount in chromosom\n",
    "        \"\"\"\n",
    "        items = len(self.generate_items())\n",
    "        if items != self.n_gens:\n",
    "            raise ValueError(f'Items numbers != n_gens. {len(self.items)}|{self.n_gens}.Try add stuff to backpack.')\n",
    "        else:\n",
    "            return True\n",
    "\n",
    "    def map_arr(self, items, arr, **kwargs):\n",
    "        \"\"\"\n",
    "        arr is chromosom\n",
    "        **kwargs is \"weights\" or \"price\" becouse we have in container as value eg.\n",
    "        {'weight': 7, 'price': 0}\n",
    "        \"\"\"\n",
    "#         print(arr, arr.shape)\n",
    "        self.check_number_items_in_backpack()\n",
    "        element = list(kwargs.values())[0]        \n",
    "        new_arr = []\n",
    "        items_keys = list(items.keys())\n",
    "        for i, ele in enumerate(arr):\n",
    "            value = items[items_keys[i]][element]# can be weight or value\n",
    "            if ele != 0:\n",
    "                new_arr.append(value)\n",
    "            else:\n",
    "                new_arr.append(ele)\n",
    "        return np.array(new_arr)       \n",
    "    \n",
    "    \n",
    "    def create_population(self, chromosom_population):\n",
    "        items = self.generate_items()            \n",
    "        chromosoms_values = []\n",
    "        weights = []\n",
    "        for chromos in chromosom_population:\n",
    "            value = self.get_chomosom_value(arr=chromos, items=items)\n",
    "            weight = self.get_weights(arr=chromos, items=items)\n",
    "            chromosoms_values.append(value)\n",
    "            weights.append(weight)    \n",
    "        population = np.insert(arr=chromosom_population, obj=chromosom_population.shape[1], \n",
    "                        values=weights, axis=1)        \n",
    "        population = np.insert(arr=population, obj=population.shape[1], \n",
    "                        values=chromosoms_values, axis=1)     \n",
    "        return population\n",
    "    \n",
    "    def set_values(self, chromosom_population, max_lift):       \n",
    "        weights = chromosom_population[:,-2]        \n",
    "        value = chromosom_population[:,-1]\n",
    "        mask = np.where(weights <= max_lift, False, True)        \n",
    "        values = np.where(mask == False, value, 0) \n",
    "        chromosom_population[:,-1] = values\n",
    "        return chromosom_population\n",
    "    \n",
    "    def generate_population(self, chromosom_population):\n",
    "        population = self.create_population(chromosom_population=chromosom_population)        \n",
    "        weights, values = population[-2:]            \n",
    "        population = self.set_values(chromosom_population=population, \n",
    "                                     max_lift=self.backpack_lift)\n",
    "        return population\n",
    "        \n",
    "    def add_adataption(self, population):\n",
    "        \"\"\"\n",
    "        population: chromosoms with weight and price\n",
    "        \"\"\"\n",
    "        summary_values = population[:,-1].sum()\n",
    "        adaptation = population[:,-1] / summary_values        \n",
    "        population = np.insert(arr=population, \n",
    "                               obj=population.shape[1],\n",
    "                               values=adaptation,\n",
    "                               axis=1)        \n",
    "        return population\n",
    "    \n",
    "    \n",
    "    def rulet_chooser(self, population, n_parrents):        \n",
    "        \"\"\"\n",
    "        rulet chooser\n",
    "        n_parrents - how many parrents we want in set.\n",
    "                 \n",
    "        \"\"\"        \n",
    "        adaptation = population[:,-1]     \n",
    "        choosen_parrents_ind = np.random.choice(a=range(0,population.shape[0]), size=n_parrents, p=adaptation)        \n",
    "        parrents = population[choosen_parrents_ind]        \n",
    "        return parrents\n",
    "    \n",
    "    \n",
    "    def ranking_chooser(self, population, n_parrents):\n",
    "        \"\"\"\n",
    "        ranking chooser\n",
    "        \"\"\"\n",
    "        mask = population[:,-1].argsort()\n",
    "        sorted_population = population[mask]\n",
    "        return sorted_population[::-1][:n_parrents, :]\n",
    "    \n",
    "    def tournament_chooser(self, population, n_parrents):        \n",
    "        chromosoms_in_group = 100\n",
    "        best_in_groups = []\n",
    "#         breakpoint()\n",
    "        for _ in range(n_parrents):            \n",
    "            # choose id-s chromosoms\n",
    "            choosen_ind = np.random.choice(len(population), chromosoms_in_group)\n",
    "            group = population[choosen_ind]\n",
    "            best_in_group = np.argmax(group[:,-1])            \n",
    "            best_in_groups.append(group[best_in_group])            \n",
    "        best_in_groups = np.array(best_in_groups)        \n",
    "        return best_in_groups        \n",
    "    \n",
    "        \n",
    "    \n",
    "    def add_mutation(self, child):\n",
    "        mutation_ind = np.random.choice(a=len(child), size=1)\n",
    "        child[mutation_ind] = 0 if child[mutation_ind] == 1 else 1\n",
    "        return child\n",
    "    \n",
    "    def create_child(self, split_ind, arr1, arr2, add_mutation=True):\n",
    "        chromosomA = arr1\n",
    "        chromosomB = arr2        \n",
    "        ch1A, ch1B  = chromosomA[:split_ind], chromosomA[split_ind:]\n",
    "        ch2A, ch2B = chromosomB[:split_ind], chromosomB[split_ind:]        \n",
    "        childA = np.append(ch1A, ch2B)\n",
    "        childB = np.append(ch2A, ch1B)\n",
    "        if add_mutation:\n",
    "            childA = self.add_mutation(child=childA)\n",
    "            childB = self.add_mutation(child=childB)        \n",
    "        return childA, childB\n",
    "    \n",
    "    def create_childs(self, population):\n",
    "        \"\"\"\n",
    "        popultion with values, weight, adaptation\n",
    "        return: pure chromosoms\n",
    "        \"\"\"\n",
    "        childs = []\n",
    "        spl_ind = self.n_gens//2\n",
    "        for i in range(0, population.shape[0], 2):\n",
    "            parrentA = population[i][:-3]\n",
    "            parrentB = population[i+1][:-3]\n",
    "            childA, childB = self.create_child(split_ind=spl_ind,\n",
    "                                               arr1=parrentA,\n",
    "                                               arr2=parrentB,\n",
    "                                               add_mutation=True)            \n",
    "            l = [childA, childB]            \n",
    "            for child in l:\n",
    "                price = self.map_arr(items=self.items,\n",
    "                                arr=child, \n",
    "                                price='price').sum()         \n",
    "                weight = self.map_arr(items=self.items,\n",
    "                                arr=child, \n",
    "                                weight='weight').sum()                \n",
    "                child = np.append(child,(weight, price))       \n",
    "                childs.append(child)\n",
    "        childs = np.array(childs, dtype=float)\n",
    "        childs = self.set_values(chromosom_population=childs, \n",
    "                        max_lift=self.backpack_lift)\n",
    "#         set default zeros to adaptation\n",
    "        zeros = np.zeros(childs.shape[0])\n",
    "        childs = np.insert(childs, childs.shape[1], zeros, axis=1)\n",
    "        return childs\n",
    "        \n",
    "    def drop_duplicates(self, population):\n",
    "        popul = [tuple(chromosom) for chromosom in population[:,:-3]]        \n",
    "        unique, ind = np.unique(popul, return_index=True, axis=0)       \n",
    "        return population[ind]\n",
    "    \n",
    "    def merge_childs_and_parrents(self, parrents, childs):\n",
    "        merged = np.insert(parrents, len(parrents), childs, axis=0)\n",
    "        np.random.shuffle(merged)\n",
    "        return merged\n",
    "        \n",
    "    \n",
    "    def pipeline(self, global_population, parrents_in_population, **kwargs):\n",
    "        _chooser_cointener = self.chooser_container()\n",
    "        selection_chooser = kwargs['chooser']\n",
    "        selection_chooser = _chooser_cointener[selection_chooser]        \n",
    "        pattents_with_adaptation = self.add_adataption(population=population)       \n",
    "        parrents = selection_chooser(population=pattents_with_adaptation,\n",
    "                            n_parrents=parrents_in_population)       \n",
    "        return parrents  \n",
    "        \n",
    "    def to_df(self, population):\n",
    "        df = pd.DataFrame(population)\n",
    "        weights, values, adaptation = df.columns[-3:]\n",
    "        df = df.rename(columns={values:'values', \n",
    "                                weights:'weights',\n",
    "                               adaptation: 'adaptation'})\n",
    "        return df\n",
    "        \n",
    "    \n",
    "    def main(self, verbose=False):        \n",
    "        global_poplulation =self.generate_population(self.create_chromosoms())        \n",
    "        global_best_price = 0\n",
    "        best_global_chromosom = []\n",
    "        progress_price = []\n",
    "        for gen in range(self.epochs):\n",
    "            global_population = self.drop_duplicates(population=global_poplulation)\n",
    "            global_population = self.pipeline(global_population=global_population,\n",
    "                                      parrents_in_population=self.parrents_in_population, \n",
    "                                      chooser=self.chooser_selector)\n",
    "#             breakpoint()\n",
    "            ind_best_local_price = np.argmax(global_population[:,-2])\n",
    "            best_local_price =  global_population[ind_best_local_price][-2]\n",
    "            if global_best_price < best_local_price:\n",
    "                global_best_price = best_local_price\n",
    "                best_global_chromosom =  global_population[ind_best_local_price]\n",
    "            best_chromosom =  best_global_chromosom[:-3]\n",
    "            weight, value, adaptation = best_global_chromosom[-3:]\n",
    "            if verbose:\n",
    "                print(f'gen -> {gen + 1}')\n",
    "                print(f\"best chromosm:{best_chromosom.astype(int)}\\nweight: {int(weight)}\\nprice :{int(value)}\\nadaptation: {adaptation}\")\n",
    "                print('')\n",
    "            progress_price.append(global_best_price)    \n",
    "            childs = self.create_childs(population=global_population)\n",
    "            global_population = self.merge_childs_and_parrents(parrents=global_population,\n",
    "                                                            childs=childs)   \n",
    "            \n",
    "        return best_global_chromosom, global_best_price, np.array(progress_price)\n",
    "        \n",
    "    def show_pie_char(self, data):\n",
    "        \"\"\"\n",
    "        visualize best parrents using pie char\n",
    "        \"\"\"\n",
    "        fig1, ax1 = plt.subplots(figsize=(20,20))\n",
    "        ax1.pie(data[:,-1], labels=range(0,data.shape[0]), autopct='%1.1f%%',\n",
    "        shadow=True, startangle=90)\n",
    "        \n",
    "    def show_progress(self):\n",
    "        _,_, progress= self.main()\n",
    "#         print(range(progress.shape[0]), progress)\n",
    "        plt.figure(figsize=(10,10))\n",
    "        progress = progress.astype(int)\n",
    "        plt.plot(range(progress.shape[0]), progress, label='siema')\n",
    "        plt.xlabel('gen')\n",
    "        plt.ylabel('progress')\n",
    "        plt.title(f'PROGRESS PLOT :\\n{self.chooser_selector}')        \n",
    "        plt.grid(True)\n",
    "        plt.show()\n",
    "        "
   ]
  },
  {
   "cell_type": "code",
   "execution_count": 82,
   "id": "czech-laugh",
   "metadata": {},
   "outputs": [],
   "source": [
    "class GeneticAlgoDecimal(GeneticAlgoritmBinary):\n",
    "    def __init__(self, population_size, parrents_in_population,  num_gens, backpack_lift, epochs, chooser='rulet'):\n",
    "        \n",
    "        super().__init__(population_size, \n",
    "                         parrents_in_population,  \n",
    "                         num_gens, \n",
    "                         backpack_lift, \n",
    "                         epochs, \n",
    "                         chooser='rulet')\n",
    "        self.bag = self.generate_items()\n",
    "        \n",
    "        \n",
    "    def generate_items(self):\n",
    "        d = {'czapka': {'weight': 2, 'price': 3, 'amount': 2},\n",
    "             'kurtka': {'weight': 3, 'price': 6, 'amount': 1},\n",
    "             'skarpety':{'weight': 1, 'price': 5,'amount': 3},\n",
    "             'buty':{'weight': 4, 'price': 3, 'amount': 1},\n",
    "             'woda':{'weight': 2, 'price': 10, 'amount': 5},\n",
    "             'kanapki':{'weight': 3, 'price': 7, 'amount': 4},\n",
    "             'owoce':{'weight': 4, 'price': 5, 'amount': 2},\n",
    "             'kawa':{'weight': 2, 'price': 2, 'amount': 1},\n",
    "             'mlotek':{'weight': 6, 'price':1, 'amount': 1},\n",
    "             'kilof':{'weight': 7, 'price': 0, 'amount': 1},\n",
    "             'kartofle': {'weight': 5, 'price': 4, 'amount': 1},\n",
    "             'czekolada': {'weight': 2, 'price': 9, 'amount': 3},\n",
    "             'noz': {'weight': 1, 'price': 7, 'amount': 2},\n",
    "             'humor': {'weight': 0, 'price': 15, 'amount': 2},\n",
    "            }\n",
    "        items = list(d.keys())[:self.n_gens]\n",
    "        d = {key: d[key] for key in items}                     \n",
    "        return d\n",
    "    \n",
    "    def create_chromosoms(self):\n",
    "        \"\"\"Create single chromosom as arr n x 1\n",
    "        \"\"\"        \n",
    "        max_weight_in_bag = max(val['amount'] for item, val in self.bag.items())\n",
    "        chromosom = np.random.choice(max_weight_in_bag, self.n_gens)        \n",
    "        return chromosom\n",
    "    \n",
    "    def create_population(self):\n",
    "        \"\"\"\n",
    "        Create population containing chromosomes.\n",
    "        \"\"\"\n",
    "        population = []\n",
    "        for _ in range(self.population_size):\n",
    "            chromosom = self.create_chromosoms()\n",
    "            population.append(chromosom)\n",
    "        return np.array(population)\n",
    "    \n",
    "    \n",
    "    def map_allels(self, chromosom, **kwargs):\n",
    "        \"\"\"\n",
    "        kwargs: 'element' might be weight, price.  \n",
    "        **kwargs is \"weights\" or \"price\" becouse we have in container as value eg.\n",
    "        {'weight': 7, 'price': 0}\n",
    "        \"\"\"\n",
    "        bag = self.bag\n",
    "        self.check_number_items_in_backpack()        \n",
    "        element = kwargs['element']        \n",
    "        maped_allels_to_values = []\n",
    "        bag_keys = list(bag.keys())\n",
    "        # allel is value of gen in chromosom\n",
    "        for i, allel in enumerate(chromosom):            \n",
    "            # items_keys[i] item in bag\n",
    "            value = bag[bag_keys[i]][element]# can be weight or value            \n",
    "            # multiplayed quantity allel by value (weight, price according on type of element)\n",
    "            multiplayed = allel * value\n",
    "            maped_allels_to_values.append(multiplayed)          \n",
    "        return np.array(maped_allels_to_values)\n",
    "    \n",
    "    def calc_quantity(self, population):\n",
    "        \"\"\"\n",
    "        Compare bag items quantity and allel value (allel is responsible for quantity items in chromosom)\n",
    "        return: array nx1 size,  where n is size of population\n",
    "            True if all allels in chromosoms are < than qunatity items in bag otherwise False\n",
    "        \n",
    "        \n",
    "        \"\"\"\n",
    "        bag_items_amt = np.array([val['amount'] for key , val in self.bag.items()])\n",
    "        print(bag_items_amt)\n",
    "        print()\n",
    "        mask = bag_items_amt >= population    \n",
    "        data = np.apply_along_axis(all, axis=1, arr=mask)\n",
    "        return data.reshape(-1,1)\n",
    "    \n",
    "    \n",
    "    def mesure_adaptation_population(self, chromosom):\n",
    "        weight = self.map_allels(chromosom=chromosom,\n",
    "                                element='weight')\n",
    "        price = self.map_allels(chromosom=chromosom,\n",
    "                                element='price')\n",
    "        quantity = ...\n",
    "    \n",
    "    def chromosom_pipeline(self):\n",
    "        \"\"\"\n",
    "        Extend chromosom population. Add to chromosoms two new params weight and price\n",
    "        \"\"\"\n",
    "        ...\n",
    "        \n",
    "        \n",
    "        \n",
    "        \n",
    "        \n",
    "    \n",
    "    "
   ]
  },
  {
   "cell_type": "code",
   "execution_count": 50,
   "id": "automated-science",
   "metadata": {
    "scrolled": true
   },
   "outputs": [
    {
     "data": {
      "text/plain": [
       "array([False, False])"
      ]
     },
     "execution_count": 50,
     "metadata": {},
     "output_type": "execute_result"
    }
   ],
   "source": [
    "# test line\n"
   ]
  },
  {
   "cell_type": "markdown",
   "id": "mental-affiliation",
   "metadata": {},
   "source": [
    "TODO\n",
    "- create method to support createing population chromosoms + weight + price + adaptation\n",
    "- set all support function to return array as vector nx1\n",
    "- funkcje pomiaru przystosowania osobnika dostosowa¢ obecnych danych (mesure adaptation population method set to new data)"
   ]
  },
  {
   "cell_type": "code",
   "execution_count": 69,
   "id": "fatal-madness",
   "metadata": {},
   "outputs": [],
   "source": [
    "#hyperparams\n",
    "epochs = 5\n",
    "population_size = 10**4\n",
    "gen_size = 10\n",
    "max_lift = 40\n",
    "np.random.seed(42)\n",
    "parrents_in_population = 200\n",
    "chooser = 'tournament' \n",
    "# inst = GeneticAlgoritmBinary(population_size=population_size,\n",
    "#                        parrents_in_population=parrents_in_population,                       \n",
    "#                        num_gens=gen_size,\n",
    "#                       backpack_lift=max_lift,\n",
    "#                       epochs=epochs,\n",
    "#                       chooser=chooser)\n",
    "# len(inst.items)\n",
    "\n",
    "# chromosoms = inst.create_chromosoms()\n",
    "# population = inst.generate_population(chromosom_population=chromosoms)\n",
    "# population = inst.add_adataption(population=population)\n",
    "# population = inst.drop_duplicates(population=population)\n",
    "# d = inst.tournament_chooser(population, parrents_in_population)\n",
    "\n",
    "\n",
    "# s = inst.ranking_adaptation(population=population)\n",
    "# items = inst.items\n",
    "# inst.main(verbose=True)\n",
    "# inst.show_progress()\n",
    "# s = s[::-1]\n",
    "# s[:, :-1]\n",
    "decimal_inst = GeneticAlgoDecimal(population_size=population_size,\n",
    "                       parrents_in_population=parrents_in_population,                       \n",
    "                       num_gens=gen_size,\n",
    "                      backpack_lift=max_lift,\n",
    "                      epochs=epochs,\n",
    "                      chooser=chooser)\n",
    "\n",
    "d = decimal_inst.create_population()\n"
   ]
  },
  {
   "cell_type": "code",
   "execution_count": 83,
   "id": "young-quilt",
   "metadata": {},
   "outputs": [
    {
     "data": {
      "text/plain": [
       "{'czapka': {'weight': 2, 'price': 3, 'amount': 2},\n",
       " 'kurtka': {'weight': 3, 'price': 6, 'amount': 1},\n",
       " 'skarpety': {'weight': 1, 'price': 5, 'amount': 3},\n",
       " 'buty': {'weight': 4, 'price': 3, 'amount': 1},\n",
       " 'woda': {'weight': 2, 'price': 10, 'amount': 5},\n",
       " 'kanapki': {'weight': 3, 'price': 7, 'amount': 4},\n",
       " 'owoce': {'weight': 4, 'price': 5, 'amount': 2},\n",
       " 'kawa': {'weight': 2, 'price': 2, 'amount': 1},\n",
       " 'mlotek': {'weight': 6, 'price': 1, 'amount': 1},\n",
       " 'kilof': {'weight': 7, 'price': 0, 'amount': 1}}"
      ]
     },
     "metadata": {},
     "output_type": "display_data"
    },
    {
     "name": "stdout",
     "output_type": "stream",
     "text": [
      "[2 1 3 1 5 4 2 1 1 1]\n",
      "\n"
     ]
    },
    {
     "data": {
      "text/plain": [
       "(10000, 10)"
      ]
     },
     "execution_count": 83,
     "metadata": {},
     "output_type": "execute_result"
    }
   ],
   "source": [
    "display(decimal_inst.bag)\n",
    "mask = decimal_inst.calc_quantity(population=d)\n",
    "mask.shape"
   ]
  },
  {
   "cell_type": "code",
   "execution_count": 81,
   "id": "expressed-wiring",
   "metadata": {},
   "outputs": [
    {
     "data": {
      "text/plain": [
       "array([[False],\n",
       "       [False],\n",
       "       [ True]])"
      ]
     },
     "execution_count": 81,
     "metadata": {},
     "output_type": "execute_result"
    }
   ],
   "source": [
    "bag_amt = np.array([1,2,3,4])\n",
    "chrom_amt = np.array([[1,2,1,5],[3,1,2,0], [0,0,0,0]])\n",
    "mask = bag_amt >= chrom_amt\n",
    "mask\n",
    "dd = np.apply_along_axis(all, axis=1, arr=mask).reshape(-1,1)\n",
    "dd"
   ]
  },
  {
   "cell_type": "code",
   "execution_count": 66,
   "id": "ambient-share",
   "metadata": {},
   "outputs": [
    {
     "data": {
      "text/plain": [
       "array([[3, 4, 2, ..., 2, 2, 4],\n",
       "       [3, 2, 4, ..., 4, 0, 3],\n",
       "       [1, 4, 3, ..., 1, 3, 3],\n",
       "       ...,\n",
       "       [2, 3, 2, ..., 1, 4, 1],\n",
       "       [0, 4, 3, ..., 1, 3, 4],\n",
       "       [1, 1, 1, ..., 4, 3, 0]])"
      ]
     },
     "execution_count": 66,
     "metadata": {},
     "output_type": "execute_result"
    }
   ],
   "source": [
    "d"
   ]
  },
  {
   "cell_type": "code",
   "execution_count": 73,
   "id": "infinite-portfolio",
   "metadata": {},
   "outputs": [
    {
     "data": {
      "text/plain": [
       "{0.00014869808071331822: (1, 60),\n",
       " 0.0001514016821808331: (3, 8),\n",
       " 0.00015680888511586285: (1, 147),\n",
       " 0.00015951248658337773: (2, 28),\n",
       " 0.0001622160880508926: (5, 58),\n",
       " 0.00016491968951840748: (14, 9),\n",
       " 0.00016762329098592236: (15, 32),\n",
       " 0.00017032689245343724: (19, 3),\n",
       " 0.00017303049392095211: (34, 0),\n",
       " 0.00017573409538846696: (18, 4),\n",
       " 0.00017843769685598184: (14, 6),\n",
       " 0.00018114129832349672: (17, 24),\n",
       " 0.0001838448997910116: (15, 12),\n",
       " 0.00018654850125852647: (8, 45),\n",
       " 0.00018925210272604135: (8, 5),\n",
       " 0.00019195570419355622: (15, 2),\n",
       " 0.0001946593056610711: (10, 14),\n",
       " 0.00019736290712858598: (1, 96)}"
      ]
     },
     "execution_count": 73,
     "metadata": {},
     "output_type": "execute_result"
    }
   ],
   "source": []
  },
  {
   "cell_type": "code",
   "execution_count": 107,
   "id": "analyzed-birthday",
   "metadata": {},
   "outputs": [
    {
     "name": "stdout",
     "output_type": "stream",
     "text": [
      "[1 1 1 1 1 1 1 1 1 1]\n",
      "[0 0 0 0 0 0 0 0 0 0]\n",
      "[1 1 1 1 1] [0 0 0 0 0] [1 1 1 1 1]\n",
      "[1 1 1 1 1 0 0 0 0 0]\n",
      "[0 0 0 0 0 1 1 1 1 1]\n",
      "[1 1 1 1 1 1 1 1 1 1]\n",
      "[0 0 0 0 0 0 0 0 0 0]\n",
      "[1 1 1 1 1] [0 0 0 0 0] [1 1 1 1 1]\n",
      "[1 1 1 1 1 0 0 0 1 0]\n",
      "[0 0 0 0 0 1 1 0 1 1]\n"
     ]
    }
   ],
   "source": [
    " #quick tests\n",
    "class TestCases():\n",
    "    \n",
    "    def test_heavy(self):\n",
    "        items = inst.generate_items()\n",
    "        arr = np.array([0,1,1,1,0])\n",
    "        max_lift = 6\n",
    "        from_func = inst.is_to_heavy(arr=arr, \n",
    "                                     items=items, \n",
    "                                     backpack_lift=max_lift)\n",
    "        expected = True\n",
    "        assert from_func == expected, f'{from_func} != {expected}'\n",
    "    \n",
    "    def test_create_child(self):\n",
    "        arr1 = np.array([1]*13)\n",
    "        arr2 = np.array([0]*13)\n",
    "        spl_ind = 5 \n",
    "        ch1, ch2 = inst.create_child(split_ind=spl_ind, \n",
    "                                 arr1=arr1, \n",
    "                                 arr2=arr2, \n",
    "                                 add_mutation=False)\n",
    "        ch1_expect = [1]*5 + [0]*5\n",
    "        ch2_expect = ch1_expect[::-1]\n",
    "        ch1m, ch2m = inst.create_child(split_ind=spl_ind, \n",
    "                                 arr1=arr1, \n",
    "                                 arr2=arr2, \n",
    "                                 add_mutation=True)\n",
    "        assert ch1.tolist() == ch1_expect, f'{ch1.tolist()} != {ch1_expect}'\n",
    "        assert ch2.tolist() == ch2_expect, f'{ch2.tolist()} != {ch2_expect}'      \n",
    "        \n",
    "tests = TestCases()\n",
    "tests.test_create_child()"
   ]
  },
  {
   "cell_type": "code",
   "execution_count": 16,
   "id": "invalid-attraction",
   "metadata": {},
   "outputs": [
    {
     "data": {
      "text/plain": [
       "array([[ 7, 19, 14],\n",
       "       [11,  3,  3],\n",
       "       [ 1, 17, 12]])"
      ]
     },
     "metadata": {},
     "output_type": "display_data"
    },
    {
     "data": {
      "text/plain": [
       "array([11,  3,  3])"
      ]
     },
     "execution_count": 16,
     "metadata": {},
     "output_type": "execute_result"
    }
   ],
   "source": [
    "np.random.seed(42)\n",
    "a = np.random.uniform(0,20, (3,3)).astype(int)\n",
    "display(a)\n",
    "m = np.argmax(a[:,0])\n",
    "a[m]"
   ]
  },
  {
   "cell_type": "code",
   "execution_count": 8,
   "id": "great-allowance",
   "metadata": {},
   "outputs": [
    {
     "data": {
      "text/plain": [
       "42"
      ]
     },
     "execution_count": 8,
     "metadata": {},
     "output_type": "execute_result"
    }
   ],
   "source": [
    "sum([val['weight'] for key, val in items.items()])"
   ]
  },
  {
   "cell_type": "code",
   "execution_count": 17,
   "id": "intellectual-ceramic",
   "metadata": {},
   "outputs": [
    {
     "data": {
      "text/plain": [
       "array([1, 0], dtype=int32)"
      ]
     },
     "execution_count": 17,
     "metadata": {},
     "output_type": "execute_result"
    }
   ],
   "source": [
    "aa = np.array([[4,5,6], [1,2,3]])\n",
    "\n",
    "aa\n",
    "\n",
    "aa[:,2].argsort()"
   ]
  },
  {
   "cell_type": "code",
   "execution_count": 67,
   "id": "behavioral-chest",
   "metadata": {},
   "outputs": [
    {
     "data": {
      "text/plain": [
       "[(1, 10),\n",
       " (2, 11),\n",
       " (3, 12),\n",
       " (4, 13),\n",
       " (5, 14),\n",
       " (6, 15),\n",
       " (7, 16),\n",
       " (8, 17),\n",
       " (9, 18)]"
      ]
     },
     "execution_count": 67,
     "metadata": {},
     "output_type": "execute_result"
    }
   ],
   "source": [
    "l1 = range(1,10)\n",
    "l2 = range(10,20)\n",
    "list(zip(l1, l2))"
   ]
  },
  {
   "cell_type": "code",
   "execution_count": 11,
   "id": "executed-cameroon",
   "metadata": {},
   "outputs": [
    {
     "data": {
      "text/plain": [
       "'kupa'"
      ]
     },
     "execution_count": 11,
     "metadata": {},
     "output_type": "execute_result"
    }
   ],
   "source": [
    "def fo(**kargs):\n",
    "    val = kargs['price']\n",
    "    return val\n",
    "fo(price='kupa')"
   ]
  }
 ],
 "metadata": {
  "kernelspec": {
   "display_name": "Python 3",
   "language": "python",
   "name": "python3"
  },
  "language_info": {
   "codemirror_mode": {
    "name": "ipython",
    "version": 3
   },
   "file_extension": ".py",
   "mimetype": "text/x-python",
   "name": "python",
   "nbconvert_exporter": "python",
   "pygments_lexer": "ipython3",
   "version": "3.7.3"
  }
 },
 "nbformat": 4,
 "nbformat_minor": 5
}
